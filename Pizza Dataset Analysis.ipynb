{
 "cells": [
  {
   "cell_type": "code",
   "execution_count": 1,
   "metadata": {},
   "outputs": [],
   "source": [
    "# This is an exploration of 10,000 Pizza Restaurants and the pizza that they sell. The dataset is obtained on Kaggle from Datafiniti. \n",
    "# https://www.kaggle.com/datafiniti/pizza-restaurants-and-the-pizza-they-sell?select=Datafiniti_Pizza_Restaurants_and_the_Pizza_They_Sell_May19.csv\n",
    "\n"
   ]
  },
  {
   "cell_type": "code",
   "execution_count": 2,
   "metadata": {},
   "outputs": [],
   "source": [
    "import pandas as pd\n",
    "import matplotlib.pyplot as plt\n",
    "import seaborn as sns\n",
    "import numpy as np"
   ]
  },
  {
   "cell_type": "code",
   "execution_count": 3,
   "metadata": {},
   "outputs": [],
   "source": [
    "df = pd.read_csv(r'C:\\Users\\HP\\Desktop\\Dataset\\Pizza\\Datafiniti_Pizza_Restaurants_and_the_Pizza_They_Sell_May19.csv')\n",
    "# Let's import our CSV into Jupyter Notebook to look at what's up"
   ]
  },
  {
   "cell_type": "code",
   "execution_count": 4,
   "metadata": {},
   "outputs": [
    {
     "data": {
      "text/html": [
       "<div>\n",
       "<style scoped>\n",
       "    .dataframe tbody tr th:only-of-type {\n",
       "        vertical-align: middle;\n",
       "    }\n",
       "\n",
       "    .dataframe tbody tr th {\n",
       "        vertical-align: top;\n",
       "    }\n",
       "\n",
       "    .dataframe thead th {\n",
       "        text-align: right;\n",
       "    }\n",
       "</style>\n",
       "<table border=\"1\" class=\"dataframe\">\n",
       "  <thead>\n",
       "    <tr style=\"text-align: right;\">\n",
       "      <th></th>\n",
       "      <th>id</th>\n",
       "      <th>dateAdded</th>\n",
       "      <th>dateUpdated</th>\n",
       "      <th>address</th>\n",
       "      <th>categories</th>\n",
       "      <th>primaryCategories</th>\n",
       "      <th>city</th>\n",
       "      <th>country</th>\n",
       "      <th>keys</th>\n",
       "      <th>latitude</th>\n",
       "      <th>...</th>\n",
       "      <th>menus.currency</th>\n",
       "      <th>menus.dateSeen</th>\n",
       "      <th>menus.description</th>\n",
       "      <th>menus.name</th>\n",
       "      <th>name</th>\n",
       "      <th>postalCode</th>\n",
       "      <th>priceRangeCurrency</th>\n",
       "      <th>priceRangeMin</th>\n",
       "      <th>priceRangeMax</th>\n",
       "      <th>province</th>\n",
       "    </tr>\n",
       "  </thead>\n",
       "  <tbody>\n",
       "    <tr>\n",
       "      <th>0</th>\n",
       "      <td>AVz3Y-7h3D1zeR_xDAqm</td>\n",
       "      <td>2017-06-30T05:05:40Z</td>\n",
       "      <td>2019-05-01T15:43:09Z</td>\n",
       "      <td>4203 E Kiehl Ave</td>\n",
       "      <td>Pizza,Restaurant,American restaurants,Pizza Pl...</td>\n",
       "      <td>Accommodation &amp; Food Services</td>\n",
       "      <td>Sherwood</td>\n",
       "      <td>US</td>\n",
       "      <td>us/ar/sherwood/4203ekiehlave/-1051391616</td>\n",
       "      <td>34.832300</td>\n",
       "      <td>...</td>\n",
       "      <td>USD</td>\n",
       "      <td>2018-05-01T04:25:37.197Z,2018-04-16T04:36:02.3...</td>\n",
       "      <td>NaN</td>\n",
       "      <td>Cheese Pizza</td>\n",
       "      <td>Shotgun Dans Pizza</td>\n",
       "      <td>72120</td>\n",
       "      <td>USD</td>\n",
       "      <td>0</td>\n",
       "      <td>25</td>\n",
       "      <td>AR</td>\n",
       "    </tr>\n",
       "    <tr>\n",
       "      <th>1</th>\n",
       "      <td>AVweGPFF_7pvs4fzAAzQ</td>\n",
       "      <td>2016-04-02T04:02:49Z</td>\n",
       "      <td>2019-05-01T15:27:50Z</td>\n",
       "      <td>25 E Camelback Rd</td>\n",
       "      <td>Pizza,Pizza Place,Restaurants</td>\n",
       "      <td>Accommodation &amp; Food Services</td>\n",
       "      <td>Phoenix</td>\n",
       "      <td>US</td>\n",
       "      <td>us/az/phoenix/25ecamelbackrd/-727422936</td>\n",
       "      <td>33.509266</td>\n",
       "      <td>...</td>\n",
       "      <td>USD</td>\n",
       "      <td>2018-03-03T02:38:06.381Z,2018-01-18T20:18:10.0...</td>\n",
       "      <td>NaN</td>\n",
       "      <td>Pizza Cookie</td>\n",
       "      <td>Sauce Pizza Wine</td>\n",
       "      <td>85012</td>\n",
       "      <td>USD</td>\n",
       "      <td>0</td>\n",
       "      <td>25</td>\n",
       "      <td>AZ</td>\n",
       "    </tr>\n",
       "    <tr>\n",
       "      <th>2</th>\n",
       "      <td>AVwdRGa9_7pvs4fz4E3K</td>\n",
       "      <td>2016-03-03T18:39:49Z</td>\n",
       "      <td>2019-05-01T12:52:25Z</td>\n",
       "      <td>3703 Paxton Ave</td>\n",
       "      <td>Restaurant,Pizza Place,Restaurants</td>\n",
       "      <td>Accommodation &amp; Food Services</td>\n",
       "      <td>Cincinnati</td>\n",
       "      <td>US</td>\n",
       "      <td>us/oh/cincinnati/3703paxtonave/-619797122</td>\n",
       "      <td>39.144883</td>\n",
       "      <td>...</td>\n",
       "      <td>USD</td>\n",
       "      <td>2018-04-10T07:58:34.585Z,2018-04-21T05:43:21.4...</td>\n",
       "      <td>a saucelessampcomma double cheese pizza with a...</td>\n",
       "      <td>Pizza Blanca</td>\n",
       "      <td>Mios Pizzeria</td>\n",
       "      <td>45209</td>\n",
       "      <td>USD</td>\n",
       "      <td>0</td>\n",
       "      <td>25</td>\n",
       "      <td>OH</td>\n",
       "    </tr>\n",
       "    <tr>\n",
       "      <th>3</th>\n",
       "      <td>AVwdX4psIN2L1WUfvJB1</td>\n",
       "      <td>2016-03-29T05:08:59Z</td>\n",
       "      <td>2019-05-01T12:52:20Z</td>\n",
       "      <td>30495 John R Rd</td>\n",
       "      <td>Pizza,Carry-out food,Pizza Place,Restaurants</td>\n",
       "      <td>Accommodation &amp; Food Services</td>\n",
       "      <td>Madison Heights</td>\n",
       "      <td>US</td>\n",
       "      <td>us/mi/madisonheights/30495johnrrd/-874863116</td>\n",
       "      <td>42.516669</td>\n",
       "      <td>...</td>\n",
       "      <td>USD</td>\n",
       "      <td>2016-10-20T21:50:02Z,2016-03-29T05:08:59Z</td>\n",
       "      <td>NaN</td>\n",
       "      <td>Small Pizza</td>\n",
       "      <td>Hungry Howies Pizza</td>\n",
       "      <td>48071</td>\n",
       "      <td>USD</td>\n",
       "      <td>25</td>\n",
       "      <td>40</td>\n",
       "      <td>MI</td>\n",
       "    </tr>\n",
       "    <tr>\n",
       "      <th>4</th>\n",
       "      <td>AVwdaeTtkufWRAb55pSH</td>\n",
       "      <td>2016-03-31T02:34:04Z</td>\n",
       "      <td>2019-05-01T12:50:45Z</td>\n",
       "      <td>3600 Eastern Ave</td>\n",
       "      <td>Pizza,American restaurants,Pizza Place,Pizza e...</td>\n",
       "      <td>Accommodation &amp; Food Services</td>\n",
       "      <td>Baltimore</td>\n",
       "      <td>US</td>\n",
       "      <td>us/md/baltimore/3600easternave/-1270965359</td>\n",
       "      <td>39.286630</td>\n",
       "      <td>...</td>\n",
       "      <td>USD</td>\n",
       "      <td>2016-03-31T02:34:04Z</td>\n",
       "      <td>NaN</td>\n",
       "      <td>Pizza Sub</td>\n",
       "      <td>Spartan Pizzeria</td>\n",
       "      <td>21224</td>\n",
       "      <td>USD</td>\n",
       "      <td>0</td>\n",
       "      <td>25</td>\n",
       "      <td>MD</td>\n",
       "    </tr>\n",
       "    <tr>\n",
       "      <th>5</th>\n",
       "      <td>AVwdaeTtkufWRAb55pSH</td>\n",
       "      <td>2016-03-31T02:34:04Z</td>\n",
       "      <td>2019-05-01T12:50:45Z</td>\n",
       "      <td>3600 Eastern Ave</td>\n",
       "      <td>Pizza,American restaurants,Pizza Place,Pizza e...</td>\n",
       "      <td>Accommodation &amp; Food Services</td>\n",
       "      <td>Baltimore</td>\n",
       "      <td>US</td>\n",
       "      <td>us/md/baltimore/3600easternave/-1270965359</td>\n",
       "      <td>39.286630</td>\n",
       "      <td>...</td>\n",
       "      <td>USD</td>\n",
       "      <td>2016-03-31T02:34:04Z</td>\n",
       "      <td>NaN</td>\n",
       "      <td>White Pizza</td>\n",
       "      <td>Spartan Pizzeria</td>\n",
       "      <td>21224</td>\n",
       "      <td>USD</td>\n",
       "      <td>0</td>\n",
       "      <td>25</td>\n",
       "      <td>MD</td>\n",
       "    </tr>\n",
       "    <tr>\n",
       "      <th>6</th>\n",
       "      <td>AVwckQhv_7pvs4fzwhpf</td>\n",
       "      <td>2016-04-22T02:28:48Z</td>\n",
       "      <td>2019-05-01T12:50:22Z</td>\n",
       "      <td>1834 Euclid Ave</td>\n",
       "      <td>Pizza Place</td>\n",
       "      <td>Accommodation &amp; Food Services</td>\n",
       "      <td>Berkeley</td>\n",
       "      <td>US</td>\n",
       "      <td>us/ca/berkeley/1834euclidave/-1109825433</td>\n",
       "      <td>37.875496</td>\n",
       "      <td>...</td>\n",
       "      <td>USD</td>\n",
       "      <td>2018-02-22T11:10:19.468Z,2018-01-22T03:13:03.3...</td>\n",
       "      <td>NaN</td>\n",
       "      <td>Two Topping Pizza</td>\n",
       "      <td>La Vals</td>\n",
       "      <td>94709</td>\n",
       "      <td>USD</td>\n",
       "      <td>0</td>\n",
       "      <td>25</td>\n",
       "      <td>CA</td>\n",
       "    </tr>\n",
       "    <tr>\n",
       "      <th>7</th>\n",
       "      <td>AVwckQhv_7pvs4fzwhpf</td>\n",
       "      <td>2016-04-22T02:28:48Z</td>\n",
       "      <td>2019-05-01T12:50:22Z</td>\n",
       "      <td>1834 Euclid Ave</td>\n",
       "      <td>Pizza Place</td>\n",
       "      <td>Accommodation &amp; Food Services</td>\n",
       "      <td>Berkeley</td>\n",
       "      <td>US</td>\n",
       "      <td>us/ca/berkeley/1834euclidave/-1109825433</td>\n",
       "      <td>37.875496</td>\n",
       "      <td>...</td>\n",
       "      <td>USD</td>\n",
       "      <td>2018-02-22T11:10:19.468Z,2018-01-22T03:13:03.3...</td>\n",
       "      <td>NaN</td>\n",
       "      <td>Three Or More Topping Pizza</td>\n",
       "      <td>La Vals</td>\n",
       "      <td>94709</td>\n",
       "      <td>USD</td>\n",
       "      <td>0</td>\n",
       "      <td>25</td>\n",
       "      <td>CA</td>\n",
       "    </tr>\n",
       "    <tr>\n",
       "      <th>8</th>\n",
       "      <td>AVwcvnln_7pvs4fzyfqZ</td>\n",
       "      <td>2016-04-01T06:35:24Z</td>\n",
       "      <td>2019-05-01T12:49:06Z</td>\n",
       "      <td>4819 Kerry Forest Pkwy</td>\n",
       "      <td>Pizza Place</td>\n",
       "      <td>Accommodation &amp; Food Services</td>\n",
       "      <td>Tallahassee</td>\n",
       "      <td>US</td>\n",
       "      <td>us/fl/tallahassee/4819kerryforestpkwy/879863405</td>\n",
       "      <td>30.537097</td>\n",
       "      <td>...</td>\n",
       "      <td>USD</td>\n",
       "      <td>2017-10-18T11:36:00.000Z,2018-01-22T20:32:19.1...</td>\n",
       "      <td>NaN</td>\n",
       "      <td>Pizza</td>\n",
       "      <td>Brickyard Pizza</td>\n",
       "      <td>32309</td>\n",
       "      <td>USD</td>\n",
       "      <td>0</td>\n",
       "      <td>25</td>\n",
       "      <td>FL</td>\n",
       "    </tr>\n",
       "    <tr>\n",
       "      <th>9</th>\n",
       "      <td>AVwcvnln_7pvs4fzyfqZ</td>\n",
       "      <td>2016-04-01T06:35:24Z</td>\n",
       "      <td>2019-05-01T12:49:06Z</td>\n",
       "      <td>4819 Kerry Forest Pkwy</td>\n",
       "      <td>Pizza Place</td>\n",
       "      <td>Accommodation &amp; Food Services</td>\n",
       "      <td>Tallahassee</td>\n",
       "      <td>US</td>\n",
       "      <td>us/fl/tallahassee/4819kerryforestpkwy/879863405</td>\n",
       "      <td>30.537097</td>\n",
       "      <td>...</td>\n",
       "      <td>USD</td>\n",
       "      <td>2017-10-18T11:36:00.000Z,2018-01-22T20:32:19.1...</td>\n",
       "      <td>NaN</td>\n",
       "      <td>Pizza</td>\n",
       "      <td>Brickyard Pizza</td>\n",
       "      <td>32309</td>\n",
       "      <td>USD</td>\n",
       "      <td>0</td>\n",
       "      <td>25</td>\n",
       "      <td>FL</td>\n",
       "    </tr>\n",
       "  </tbody>\n",
       "</table>\n",
       "<p>10 rows × 24 columns</p>\n",
       "</div>"
      ],
      "text/plain": [
       "                     id             dateAdded           dateUpdated  \\\n",
       "0  AVz3Y-7h3D1zeR_xDAqm  2017-06-30T05:05:40Z  2019-05-01T15:43:09Z   \n",
       "1  AVweGPFF_7pvs4fzAAzQ  2016-04-02T04:02:49Z  2019-05-01T15:27:50Z   \n",
       "2  AVwdRGa9_7pvs4fz4E3K  2016-03-03T18:39:49Z  2019-05-01T12:52:25Z   \n",
       "3  AVwdX4psIN2L1WUfvJB1  2016-03-29T05:08:59Z  2019-05-01T12:52:20Z   \n",
       "4  AVwdaeTtkufWRAb55pSH  2016-03-31T02:34:04Z  2019-05-01T12:50:45Z   \n",
       "5  AVwdaeTtkufWRAb55pSH  2016-03-31T02:34:04Z  2019-05-01T12:50:45Z   \n",
       "6  AVwckQhv_7pvs4fzwhpf  2016-04-22T02:28:48Z  2019-05-01T12:50:22Z   \n",
       "7  AVwckQhv_7pvs4fzwhpf  2016-04-22T02:28:48Z  2019-05-01T12:50:22Z   \n",
       "8  AVwcvnln_7pvs4fzyfqZ  2016-04-01T06:35:24Z  2019-05-01T12:49:06Z   \n",
       "9  AVwcvnln_7pvs4fzyfqZ  2016-04-01T06:35:24Z  2019-05-01T12:49:06Z   \n",
       "\n",
       "                  address                                         categories  \\\n",
       "0        4203 E Kiehl Ave  Pizza,Restaurant,American restaurants,Pizza Pl...   \n",
       "1       25 E Camelback Rd                      Pizza,Pizza Place,Restaurants   \n",
       "2         3703 Paxton Ave                 Restaurant,Pizza Place,Restaurants   \n",
       "3         30495 John R Rd       Pizza,Carry-out food,Pizza Place,Restaurants   \n",
       "4        3600 Eastern Ave  Pizza,American restaurants,Pizza Place,Pizza e...   \n",
       "5        3600 Eastern Ave  Pizza,American restaurants,Pizza Place,Pizza e...   \n",
       "6         1834 Euclid Ave                                        Pizza Place   \n",
       "7         1834 Euclid Ave                                        Pizza Place   \n",
       "8  4819 Kerry Forest Pkwy                                        Pizza Place   \n",
       "9  4819 Kerry Forest Pkwy                                        Pizza Place   \n",
       "\n",
       "               primaryCategories             city country  \\\n",
       "0  Accommodation & Food Services         Sherwood      US   \n",
       "1  Accommodation & Food Services          Phoenix      US   \n",
       "2  Accommodation & Food Services       Cincinnati      US   \n",
       "3  Accommodation & Food Services  Madison Heights      US   \n",
       "4  Accommodation & Food Services        Baltimore      US   \n",
       "5  Accommodation & Food Services        Baltimore      US   \n",
       "6  Accommodation & Food Services         Berkeley      US   \n",
       "7  Accommodation & Food Services         Berkeley      US   \n",
       "8  Accommodation & Food Services      Tallahassee      US   \n",
       "9  Accommodation & Food Services      Tallahassee      US   \n",
       "\n",
       "                                              keys   latitude  ...  \\\n",
       "0         us/ar/sherwood/4203ekiehlave/-1051391616  34.832300  ...   \n",
       "1          us/az/phoenix/25ecamelbackrd/-727422936  33.509266  ...   \n",
       "2        us/oh/cincinnati/3703paxtonave/-619797122  39.144883  ...   \n",
       "3     us/mi/madisonheights/30495johnrrd/-874863116  42.516669  ...   \n",
       "4       us/md/baltimore/3600easternave/-1270965359  39.286630  ...   \n",
       "5       us/md/baltimore/3600easternave/-1270965359  39.286630  ...   \n",
       "6         us/ca/berkeley/1834euclidave/-1109825433  37.875496  ...   \n",
       "7         us/ca/berkeley/1834euclidave/-1109825433  37.875496  ...   \n",
       "8  us/fl/tallahassee/4819kerryforestpkwy/879863405  30.537097  ...   \n",
       "9  us/fl/tallahassee/4819kerryforestpkwy/879863405  30.537097  ...   \n",
       "\n",
       "   menus.currency                                     menus.dateSeen  \\\n",
       "0             USD  2018-05-01T04:25:37.197Z,2018-04-16T04:36:02.3...   \n",
       "1             USD  2018-03-03T02:38:06.381Z,2018-01-18T20:18:10.0...   \n",
       "2             USD  2018-04-10T07:58:34.585Z,2018-04-21T05:43:21.4...   \n",
       "3             USD          2016-10-20T21:50:02Z,2016-03-29T05:08:59Z   \n",
       "4             USD                               2016-03-31T02:34:04Z   \n",
       "5             USD                               2016-03-31T02:34:04Z   \n",
       "6             USD  2018-02-22T11:10:19.468Z,2018-01-22T03:13:03.3...   \n",
       "7             USD  2018-02-22T11:10:19.468Z,2018-01-22T03:13:03.3...   \n",
       "8             USD  2017-10-18T11:36:00.000Z,2018-01-22T20:32:19.1...   \n",
       "9             USD  2017-10-18T11:36:00.000Z,2018-01-22T20:32:19.1...   \n",
       "\n",
       "                                   menus.description  \\\n",
       "0                                                NaN   \n",
       "1                                                NaN   \n",
       "2  a saucelessampcomma double cheese pizza with a...   \n",
       "3                                                NaN   \n",
       "4                                                NaN   \n",
       "5                                                NaN   \n",
       "6                                                NaN   \n",
       "7                                                NaN   \n",
       "8                                                NaN   \n",
       "9                                                NaN   \n",
       "\n",
       "                    menus.name                 name postalCode  \\\n",
       "0                 Cheese Pizza   Shotgun Dans Pizza      72120   \n",
       "1                 Pizza Cookie     Sauce Pizza Wine      85012   \n",
       "2                 Pizza Blanca        Mios Pizzeria      45209   \n",
       "3                  Small Pizza  Hungry Howies Pizza      48071   \n",
       "4                    Pizza Sub     Spartan Pizzeria      21224   \n",
       "5                  White Pizza     Spartan Pizzeria      21224   \n",
       "6            Two Topping Pizza              La Vals      94709   \n",
       "7  Three Or More Topping Pizza              La Vals      94709   \n",
       "8                        Pizza      Brickyard Pizza      32309   \n",
       "9                        Pizza      Brickyard Pizza      32309   \n",
       "\n",
       "  priceRangeCurrency priceRangeMin priceRangeMax province  \n",
       "0                USD             0            25       AR  \n",
       "1                USD             0            25       AZ  \n",
       "2                USD             0            25       OH  \n",
       "3                USD            25            40       MI  \n",
       "4                USD             0            25       MD  \n",
       "5                USD             0            25       MD  \n",
       "6                USD             0            25       CA  \n",
       "7                USD             0            25       CA  \n",
       "8                USD             0            25       FL  \n",
       "9                USD             0            25       FL  \n",
       "\n",
       "[10 rows x 24 columns]"
      ]
     },
     "execution_count": 4,
     "metadata": {},
     "output_type": "execute_result"
    }
   ],
   "source": [
    "df.head(10)\n",
    "# Let's print out the 1st ten rows to get an idea of our dataset"
   ]
  },
  {
   "cell_type": "code",
   "execution_count": 5,
   "metadata": {},
   "outputs": [
    {
     "name": "stdout",
     "output_type": "stream",
     "text": [
      "<class 'pandas.core.frame.DataFrame'>\n",
      "RangeIndex: 10000 entries, 0 to 9999\n",
      "Data columns (total 24 columns):\n",
      " #   Column              Non-Null Count  Dtype  \n",
      "---  ------              --------------  -----  \n",
      " 0   id                  10000 non-null  object \n",
      " 1   dateAdded           10000 non-null  object \n",
      " 2   dateUpdated         10000 non-null  object \n",
      " 3   address             10000 non-null  object \n",
      " 4   categories          10000 non-null  object \n",
      " 5   primaryCategories   10000 non-null  object \n",
      " 6   city                10000 non-null  object \n",
      " 7   country             10000 non-null  object \n",
      " 8   keys                10000 non-null  object \n",
      " 9   latitude            10000 non-null  float64\n",
      " 10  longitude           10000 non-null  float64\n",
      " 11  menuPageURL         1679 non-null   object \n",
      " 12  menus.amountMax     10000 non-null  float64\n",
      " 13  menus.amountMin     10000 non-null  float64\n",
      " 14  menus.currency      10000 non-null  object \n",
      " 15  menus.dateSeen      10000 non-null  object \n",
      " 16  menus.description   3718 non-null   object \n",
      " 17  menus.name          10000 non-null  object \n",
      " 18  name                10000 non-null  object \n",
      " 19  postalCode          9996 non-null   object \n",
      " 20  priceRangeCurrency  10000 non-null  object \n",
      " 21  priceRangeMin       10000 non-null  int64  \n",
      " 22  priceRangeMax       10000 non-null  int64  \n",
      " 23  province            10000 non-null  object \n",
      "dtypes: float64(4), int64(2), object(18)\n",
      "memory usage: 1.8+ MB\n"
     ]
    }
   ],
   "source": [
    "df.info()\n",
    "\n",
    "# This will help us generate a list of the columns currently in our dataset\n",
    "# From this, we can create a new df with the RELEVANT columns that we need"
   ]
  },
  {
   "cell_type": "code",
   "execution_count": 6,
   "metadata": {},
   "outputs": [],
   "source": [
    "# Let's create a df with only the relevant rows we want to analyze\n",
    "\n",
    "pizza = df[['name','city','province','menus.amountMax','menus.amountMin', 'menus.name', 'postalCode', 'priceRangeMin', 'priceRangeMax']]"
   ]
  },
  {
   "cell_type": "code",
   "execution_count": 7,
   "metadata": {},
   "outputs": [
    {
     "data": {
      "text/html": [
       "<div>\n",
       "<style scoped>\n",
       "    .dataframe tbody tr th:only-of-type {\n",
       "        vertical-align: middle;\n",
       "    }\n",
       "\n",
       "    .dataframe tbody tr th {\n",
       "        vertical-align: top;\n",
       "    }\n",
       "\n",
       "    .dataframe thead th {\n",
       "        text-align: right;\n",
       "    }\n",
       "</style>\n",
       "<table border=\"1\" class=\"dataframe\">\n",
       "  <thead>\n",
       "    <tr style=\"text-align: right;\">\n",
       "      <th></th>\n",
       "      <th>name</th>\n",
       "      <th>city</th>\n",
       "      <th>province</th>\n",
       "      <th>menus.amountMax</th>\n",
       "      <th>menus.amountMin</th>\n",
       "      <th>menus.name</th>\n",
       "      <th>postalCode</th>\n",
       "      <th>priceRangeMin</th>\n",
       "      <th>priceRangeMax</th>\n",
       "    </tr>\n",
       "  </thead>\n",
       "  <tbody>\n",
       "    <tr>\n",
       "      <th>0</th>\n",
       "      <td>Shotgun Dans Pizza</td>\n",
       "      <td>Sherwood</td>\n",
       "      <td>AR</td>\n",
       "      <td>7.98</td>\n",
       "      <td>7.98</td>\n",
       "      <td>Cheese Pizza</td>\n",
       "      <td>72120</td>\n",
       "      <td>0</td>\n",
       "      <td>25</td>\n",
       "    </tr>\n",
       "    <tr>\n",
       "      <th>1</th>\n",
       "      <td>Sauce Pizza Wine</td>\n",
       "      <td>Phoenix</td>\n",
       "      <td>AZ</td>\n",
       "      <td>6.00</td>\n",
       "      <td>6.00</td>\n",
       "      <td>Pizza Cookie</td>\n",
       "      <td>85012</td>\n",
       "      <td>0</td>\n",
       "      <td>25</td>\n",
       "    </tr>\n",
       "    <tr>\n",
       "      <th>2</th>\n",
       "      <td>Mios Pizzeria</td>\n",
       "      <td>Cincinnati</td>\n",
       "      <td>OH</td>\n",
       "      <td>6.49</td>\n",
       "      <td>6.49</td>\n",
       "      <td>Pizza Blanca</td>\n",
       "      <td>45209</td>\n",
       "      <td>0</td>\n",
       "      <td>25</td>\n",
       "    </tr>\n",
       "    <tr>\n",
       "      <th>3</th>\n",
       "      <td>Hungry Howies Pizza</td>\n",
       "      <td>Madison Heights</td>\n",
       "      <td>MI</td>\n",
       "      <td>5.99</td>\n",
       "      <td>5.99</td>\n",
       "      <td>Small Pizza</td>\n",
       "      <td>48071</td>\n",
       "      <td>25</td>\n",
       "      <td>40</td>\n",
       "    </tr>\n",
       "    <tr>\n",
       "      <th>4</th>\n",
       "      <td>Spartan Pizzeria</td>\n",
       "      <td>Baltimore</td>\n",
       "      <td>MD</td>\n",
       "      <td>5.49</td>\n",
       "      <td>5.49</td>\n",
       "      <td>Pizza Sub</td>\n",
       "      <td>21224</td>\n",
       "      <td>0</td>\n",
       "      <td>25</td>\n",
       "    </tr>\n",
       "    <tr>\n",
       "      <th>5</th>\n",
       "      <td>Spartan Pizzeria</td>\n",
       "      <td>Baltimore</td>\n",
       "      <td>MD</td>\n",
       "      <td>10.99</td>\n",
       "      <td>10.99</td>\n",
       "      <td>White Pizza</td>\n",
       "      <td>21224</td>\n",
       "      <td>0</td>\n",
       "      <td>25</td>\n",
       "    </tr>\n",
       "    <tr>\n",
       "      <th>6</th>\n",
       "      <td>La Vals</td>\n",
       "      <td>Berkeley</td>\n",
       "      <td>CA</td>\n",
       "      <td>4.99</td>\n",
       "      <td>4.99</td>\n",
       "      <td>Two Topping Pizza</td>\n",
       "      <td>94709</td>\n",
       "      <td>0</td>\n",
       "      <td>25</td>\n",
       "    </tr>\n",
       "    <tr>\n",
       "      <th>7</th>\n",
       "      <td>La Vals</td>\n",
       "      <td>Berkeley</td>\n",
       "      <td>CA</td>\n",
       "      <td>5.39</td>\n",
       "      <td>5.39</td>\n",
       "      <td>Three Or More Topping Pizza</td>\n",
       "      <td>94709</td>\n",
       "      <td>0</td>\n",
       "      <td>25</td>\n",
       "    </tr>\n",
       "    <tr>\n",
       "      <th>8</th>\n",
       "      <td>Brickyard Pizza</td>\n",
       "      <td>Tallahassee</td>\n",
       "      <td>FL</td>\n",
       "      <td>2.50</td>\n",
       "      <td>2.50</td>\n",
       "      <td>Pizza</td>\n",
       "      <td>32309</td>\n",
       "      <td>0</td>\n",
       "      <td>25</td>\n",
       "    </tr>\n",
       "    <tr>\n",
       "      <th>9</th>\n",
       "      <td>Brickyard Pizza</td>\n",
       "      <td>Tallahassee</td>\n",
       "      <td>FL</td>\n",
       "      <td>11.99</td>\n",
       "      <td>11.99</td>\n",
       "      <td>Pizza</td>\n",
       "      <td>32309</td>\n",
       "      <td>0</td>\n",
       "      <td>25</td>\n",
       "    </tr>\n",
       "  </tbody>\n",
       "</table>\n",
       "</div>"
      ],
      "text/plain": [
       "                  name             city province  menus.amountMax  \\\n",
       "0   Shotgun Dans Pizza         Sherwood       AR             7.98   \n",
       "1     Sauce Pizza Wine          Phoenix       AZ             6.00   \n",
       "2        Mios Pizzeria       Cincinnati       OH             6.49   \n",
       "3  Hungry Howies Pizza  Madison Heights       MI             5.99   \n",
       "4     Spartan Pizzeria        Baltimore       MD             5.49   \n",
       "5     Spartan Pizzeria        Baltimore       MD            10.99   \n",
       "6              La Vals         Berkeley       CA             4.99   \n",
       "7              La Vals         Berkeley       CA             5.39   \n",
       "8      Brickyard Pizza      Tallahassee       FL             2.50   \n",
       "9      Brickyard Pizza      Tallahassee       FL            11.99   \n",
       "\n",
       "   menus.amountMin                   menus.name postalCode  priceRangeMin  \\\n",
       "0             7.98                 Cheese Pizza      72120              0   \n",
       "1             6.00                 Pizza Cookie      85012              0   \n",
       "2             6.49                 Pizza Blanca      45209              0   \n",
       "3             5.99                  Small Pizza      48071             25   \n",
       "4             5.49                    Pizza Sub      21224              0   \n",
       "5            10.99                  White Pizza      21224              0   \n",
       "6             4.99            Two Topping Pizza      94709              0   \n",
       "7             5.39  Three Or More Topping Pizza      94709              0   \n",
       "8             2.50                        Pizza      32309              0   \n",
       "9            11.99                        Pizza      32309              0   \n",
       "\n",
       "   priceRangeMax  \n",
       "0             25  \n",
       "1             25  \n",
       "2             25  \n",
       "3             40  \n",
       "4             25  \n",
       "5             25  \n",
       "6             25  \n",
       "7             25  \n",
       "8             25  \n",
       "9             25  "
      ]
     },
     "execution_count": 7,
     "metadata": {},
     "output_type": "execute_result"
    }
   ],
   "source": [
    "# Let's check out new df by checking the first 10 rows\n",
    "\n",
    "pizza.head(10)"
   ]
  },
  {
   "cell_type": "code",
   "execution_count": 8,
   "metadata": {},
   "outputs": [
    {
     "data": {
      "text/plain": [
       "name               0\n",
       "city               0\n",
       "province           0\n",
       "menus.amountMax    0\n",
       "menus.amountMin    0\n",
       "menus.name         0\n",
       "postalCode         4\n",
       "priceRangeMin      0\n",
       "priceRangeMax      0\n",
       "dtype: int64"
      ]
     },
     "execution_count": 8,
     "metadata": {},
     "output_type": "execute_result"
    }
   ],
   "source": [
    "#Let's take a look at the sum of our null values by columns\n",
    "\n",
    "pizza.isnull().sum()"
   ]
  },
  {
   "cell_type": "code",
   "execution_count": 9,
   "metadata": {},
   "outputs": [],
   "source": [
    "# Let's standardize our data by putting in the mean in menus.amountMax, menus.amountMin, priceRangeMin, priceRangeMax in the null values\n",
    "#https://stackoverflow.com/questions/55319655/pandas-how-to-replace-zero-values-in-a-column-with-the-mean-of-that-column-for"
   ]
  },
  {
   "cell_type": "code",
   "execution_count": 10,
   "metadata": {},
   "outputs": [
    {
     "data": {
      "text/plain": [
       "1028"
      ]
     },
     "execution_count": 10,
     "metadata": {},
     "output_type": "execute_result"
    }
   ],
   "source": [
    "pizza['city'].nunique()\n",
    "\n",
    "# There are 1028 cities represented here"
   ]
  },
  {
   "cell_type": "code",
   "execution_count": 11,
   "metadata": {},
   "outputs": [],
   "source": [
    "# Let's find the min and the max value of our menu items across the 10,000 Restaurants\n",
    "\n",
    "#pizza.describe"
   ]
  },
  {
   "cell_type": "code",
   "execution_count": 12,
   "metadata": {},
   "outputs": [
    {
     "data": {
      "text/plain": [
       "4749"
      ]
     },
     "execution_count": 12,
     "metadata": {},
     "output_type": "execute_result"
    }
   ],
   "source": [
    "pizza['menus.name'].nunique()\n",
    "# There are 4749 different flavors of pizza\n",
    "\n",
    "#Let's see which ones are the top ten"
   ]
  },
  {
   "cell_type": "code",
   "execution_count": 13,
   "metadata": {},
   "outputs": [],
   "source": [
    "fav_toppings = pizza['menus.name'].value_counts()\n",
    "#Let's look at the toppings people like\n"
   ]
  },
  {
   "cell_type": "code",
   "execution_count": 14,
   "metadata": {},
   "outputs": [
    {
     "data": {
      "text/plain": [
       "Cheese Pizza             299\n",
       "White Pizza              225\n",
       "Hawaiian Pizza           149\n",
       "Buffalo Chicken Pizza    112\n",
       "Pizza                    111\n",
       "Margherita Pizza         104\n",
       "Veggie Pizza              95\n",
       "Bbq Chicken Pizza         81\n",
       "Greek Pizza               72\n",
       "Pizza Sub                 71\n",
       "Name: menus.name, dtype: int64"
      ]
     },
     "execution_count": 14,
     "metadata": {},
     "output_type": "execute_result"
    }
   ],
   "source": [
    "fav_toppings.head(10)\n",
    "# We can look at the top 10---- Cheese is the clear winner; however, given that the restaurants might have different names for the same pizza, the dataset CAN be normalized by crossreferencing the description...But not today! "
   ]
  },
  {
   "cell_type": "code",
   "execution_count": 30,
   "metadata": {},
   "outputs": [
    {
     "data": {
      "text/plain": [
       "<AxesSubplot:>"
      ]
     },
     "execution_count": 30,
     "metadata": {},
     "output_type": "execute_result"
    },
    {
     "data": {
      "image/png": "[encoded data removed]",
      "text/plain": [
       "<Figure size 432x288 with 1 Axes>"
      ]
     },
     "metadata": {
      "needs_background": "light"
     },
     "output_type": "display_data"
    }
   ],
   "source": [
    "pizza['menus.name'].value_counts().nlargest(10).plot(kind='barh', color='orange')\n",
    "# This is a horizontal bar graph"
   ]
  },
  {
   "cell_type": "code",
   "execution_count": 15,
   "metadata": {},
   "outputs": [
    {
     "data": {
      "text/plain": [
       "16Inch Whole Large Round Pizza to Go Only    1\n",
       "Garden Veggie Thin Crust Pizza               1\n",
       "Low Fat Cheese Pizza                         1\n",
       "Straw Hat's Pizza Sandwich                   1\n",
       "Cherry Pie Pizza (12\")                       1\n",
       "Teddyampaposs Supreme Pizza                  1\n",
       "Blt Pizza (large)                            1\n",
       "Veggie Medley A Vegan Friendly Pizza         1\n",
       "Pesto Chicken (Specialty Pizza)              1\n",
       "Mac Attack Pizza                             1\n",
       "Name: menus.name, dtype: int64"
      ]
     },
     "execution_count": 15,
     "metadata": {},
     "output_type": "execute_result"
    }
   ],
   "source": [
    "# Let's take a look at the LEAST favorite toppins- here using the same formula, but with tail\n",
    "pizza['menus.name'].value_counts().tail(10)\n",
    "\n",
    "# It seems with the data that we have, there are way too many pizza toppings with just 1 count, so, pretty difficult to group together. "
   ]
  },
  {
   "cell_type": "code",
   "execution_count": 16,
   "metadata": {},
   "outputs": [
    {
     "data": {
      "text/plain": [
       "264"
      ]
     },
     "execution_count": 16,
     "metadata": {},
     "output_type": "execute_result"
    }
   ],
   "source": [
    "# Not many people consider Hawaiian pizza a real thing, but let's see how often it shows up\n",
    "\n",
    "# Although on our top ten pizzas, it shows only 149, if we search for Hawaiian, there are actually 264 different variations of this pizza! \n",
    "\n",
    "pizza['menus.name'].str.lower().str.contains('hawaiian').sum()"
   ]
  },
  {
   "cell_type": "code",
   "execution_count": 17,
   "metadata": {},
   "outputs": [
    {
     "data": {
      "text/plain": [
       "304"
      ]
     },
     "execution_count": 17,
     "metadata": {},
     "output_type": "execute_result"
    }
   ],
   "source": [
    "# Vegetarian and Vegan options are becoming quite popular. Let's see how many vegetarian options there are. \n",
    "\n",
    "pizza['menus.name'].str.lower().str.contains('veggie | vegetarian | vegetable').sum()\n",
    "\n",
    "\n",
    "#There are 304 Vegetarian Options"
   ]
  },
  {
   "cell_type": "code",
   "execution_count": 18,
   "metadata": {},
   "outputs": [
    {
     "data": {
      "text/plain": [
       "15"
      ]
     },
     "execution_count": 18,
     "metadata": {},
     "output_type": "execute_result"
    }
   ],
   "source": [
    "# What about Vegan options? I'm actually surprise there are only 15 vegan options! \n",
    "\n",
    "pizza['menus.name'].str.lower().str.contains('vegan').sum()\n"
   ]
  },
  {
   "cell_type": "code",
   "execution_count": 19,
   "metadata": {},
   "outputs": [
    {
     "data": {
      "text/plain": [
       "228"
      ]
     },
     "execution_count": 19,
     "metadata": {},
     "output_type": "execute_result"
    }
   ],
   "source": [
    "pizza['menus.name'].str.lower().str.contains('gluten free').sum()\n",
    "\n",
    "# Wow! There are A LOT of gluten free options. "
   ]
  },
  {
   "cell_type": "code",
   "execution_count": 25,
   "metadata": {},
   "outputs": [
    {
     "data": {
      "text/plain": [
       "NY    2640\n",
       "CA    1386\n",
       "PA     814\n",
       "FL     601\n",
       "TX     485\n",
       "IL     381\n",
       "MI     366\n",
       "OH     324\n",
       "AZ     288\n",
       "WA     262\n",
       "Name: province, dtype: int64"
      ]
     },
     "execution_count": 25,
     "metadata": {},
     "output_type": "execute_result"
    }
   ],
   "source": [
    "# Okay, enough with the toppings. Let's take a look at the provinces the restaurants are based in. Here we are interested in only the top 10 cities. \n",
    "# New York seems to be leading the pack! \n",
    "\n",
    "pizza['province'].value_counts().head(10)\n"
   ]
  },
  {
   "cell_type": "code",
   "execution_count": 26,
   "metadata": {},
   "outputs": [
    {
     "data": {
      "text/plain": [
       "<AxesSubplot:>"
      ]
     },
     "execution_count": 26,
     "metadata": {},
     "output_type": "execute_result"
    },
    {
     "data": {
      "image/png": "[encoded data removed]",
      "text/plain": [
       "<Figure size 432x288 with 1 Axes>"
      ]
     },
     "metadata": {
      "needs_background": "light"
     },
     "output_type": "display_data"
    }
   ],
   "source": [
    "# Let's look at it in a graph form\n",
    "pizza['province'].value_counts().nlargest(10).plot(kind='bar')\n",
    "# This is a regular vertical bar graph"
   ]
  },
  {
   "cell_type": "code",
   "execution_count": 32,
   "metadata": {},
   "outputs": [
    {
     "data": {
      "text/plain": [
       "New York         655\n",
       "Brooklyn         460\n",
       "Los Angeles      193\n",
       "Buffalo          178\n",
       "Philadelphia     140\n",
       "Seattle          135\n",
       "Chicago          133\n",
       "Flushing         124\n",
       "San Francisco    110\n",
       "Bronx             88\n",
       "Name: city, dtype: int64"
      ]
     },
     "execution_count": 32,
     "metadata": {},
     "output_type": "execute_result"
    }
   ],
   "source": [
    "# What about the most popular cities for pizza?\n",
    "\n",
    "pizza['city'].value_counts().nlargest(10)"
   ]
  },
  {
   "cell_type": "code",
   "execution_count": 33,
   "metadata": {},
   "outputs": [
    {
     "data": {
      "text/plain": [
       "<AxesSubplot:>"
      ]
     },
     "execution_count": 33,
     "metadata": {},
     "output_type": "execute_result"
    },
    {
     "data": {
      "image/png": "[encoded data removed]",
      "text/plain": [
       "<Figure size 432x288 with 1 Axes>"
      ]
     },
     "metadata": {
      "needs_background": "light"
     },
     "output_type": "display_data"
    }
   ],
   "source": [
    "# Let's graph it out\n",
    "pizza['city'].value_counts().nlargest(10).plot(kind='bar', color='red')"
   ]
  },
  {
   "cell_type": "code",
   "execution_count": 34,
   "metadata": {},
   "outputs": [
    {
     "data": {
      "text/plain": [
       "California Pizza Kitchen    261\n",
       "Papa Murphy's               208\n",
       "Papa John's Pizza           124\n",
       "Papa Murphys                 69\n",
       "Gino's Pizzeria              68\n",
       "                           ... \n",
       "Pizza Autentica               1\n",
       "Love At First Slice           1\n",
       "Glass Nickel Pizza            1\n",
       "Giovanni's                    1\n",
       "Larrys Pizza Conway           1\n",
       "Name: name, Length: 1827, dtype: int64"
      ]
     },
     "execution_count": 34,
     "metadata": {},
     "output_type": "execute_result"
    }
   ],
   "source": [
    "# What are the most popular pizza restaurants? Can we see if there are a lot of chain restaurants? \n",
    "\n",
    "pizza['name'].value_counts()\n"
   ]
  },
  {
   "cell_type": "code",
   "execution_count": 35,
   "metadata": {},
   "outputs": [
    {
     "data": {
      "text/plain": [
       "<AxesSubplot:>"
      ]
     },
     "execution_count": 35,
     "metadata": {},
     "output_type": "execute_result"
    },
    {
     "data": {
      "image/png": "[encoded data removed]",
      "text/plain": [
       "<Figure size 432x288 with 1 Axes>"
      ]
     },
     "metadata": {
      "needs_background": "light"
     },
     "output_type": "display_data"
    }
   ],
   "source": [
    "pizza['name'].value_counts().nlargest(25).plot(kind='bar', color='purple')\n",
    "\n",
    "# California Pizza Kitchen is the most popular, with Pape Murphy's coming in at a close second, but if we actually look at the top 4 choice, in 2nd, 3rd, and 4th place is Papa' Murphy which would bring Paper Murphy as # 1\n",
    "# This shows the importance of cleaning up the dataset. In this demonstration, we are just using the data as is, without proper cleaning and standarization"
   ]
  },
  {
   "cell_type": "code",
   "execution_count": 43,
   "metadata": {},
   "outputs": [
    {
     "data": {
      "text/html": [
       "<div>\n",
       "<style scoped>\n",
       "    .dataframe tbody tr th:only-of-type {\n",
       "        vertical-align: middle;\n",
       "    }\n",
       "\n",
       "    .dataframe tbody tr th {\n",
       "        vertical-align: top;\n",
       "    }\n",
       "\n",
       "    .dataframe thead th {\n",
       "        text-align: right;\n",
       "    }\n",
       "</style>\n",
       "<table border=\"1\" class=\"dataframe\">\n",
       "  <thead>\n",
       "    <tr style=\"text-align: right;\">\n",
       "      <th></th>\n",
       "      <th>name</th>\n",
       "      <th>menus.name</th>\n",
       "      <th>menus.amountMax</th>\n",
       "      <th>city</th>\n",
       "      <th>province</th>\n",
       "      <th>address</th>\n",
       "    </tr>\n",
       "  </thead>\n",
       "  <tbody>\n",
       "    <tr>\n",
       "      <th>9337</th>\n",
       "      <td>Rocco's</td>\n",
       "      <td>Taco Pizza</td>\n",
       "      <td>1395.0</td>\n",
       "      <td>Pasco</td>\n",
       "      <td>WA</td>\n",
       "      <td>6415 Burden Blvd</td>\n",
       "    </tr>\n",
       "  </tbody>\n",
       "</table>\n",
       "</div>"
      ],
      "text/plain": [
       "         name  menus.name  menus.amountMax   city province           address\n",
       "9337  Rocco's  Taco Pizza           1395.0  Pasco       WA  6415 Burden Blvd"
      ]
     },
     "execution_count": 43,
     "metadata": {},
     "output_type": "execute_result"
    }
   ],
   "source": [
    "# What is the most expensive thing on the Menu? Let's check and find out\n",
    "\n",
    "df[['name','menus.name','menus.amountMax', 'city', 'province','address']][df['menus.amountMax']==df['menus.amountMax'].max()]\n",
    "\n",
    "# This seems quite expensive! Let's check their menu online and see what the pizza actually cost"
   ]
  },
  {
   "cell_type": "code",
   "execution_count": 47,
   "metadata": {},
   "outputs": [
    {
     "data": {
      "text/plain": [
       "<AxesSubplot:>"
      ]
     },
     "execution_count": 47,
     "metadata": {},
     "output_type": "execute_result"
    },
    {
     "data": {
      "image/png": "[encoded data removed]",
      "text/plain": [
       "<Figure size 432x288 with 1 Axes>"
      ]
     },
     "metadata": {
      "needs_background": "light"
     },
     "output_type": "display_data"
    }
   ],
   "source": [
    "# By cross referencing their city, province, and address, we were able to locate their website, which was missing in the dataset\n",
    "# Their taco pizza is actually between 16.95-29.95, which makes me wonder how skewed the data we are seeing is\n",
    "#https://www.roccostricities.com/s/order\n",
    "\n",
    "# So let's take a look at the menus.amountMax scatterplot\n",
    "\n",
    "pizza['menus.amountMax'].plot.box()\n",
    "\n",
    "#From this, we can see that Rocco's Taco Pizza is a HUGE outlier, with the majority of the high price items under 200"
   ]
  },
  {
   "cell_type": "code",
   "execution_count": null,
   "metadata": {},
   "outputs": [],
   "source": [
    "# That's it for our pizza analysis! Hope you enjoyed it! "
   ]
  }
 ],
 "metadata": {
  "kernelspec": {
   "display_name": "Python 3",
   "language": "python",
   "name": "python3"
  },
  "language_info": {
   "codemirror_mode": {
    "name": "ipython",
    "version": 3
   },
   "file_extension": ".py",
   "mimetype": "text/x-python",
   "name": "python",
   "nbconvert_exporter": "python",
   "pygments_lexer": "ipython3",
   "version": "3.8.6"
  }
 },
 "nbformat": 4,
 "nbformat_minor": 4
}
